{
 "cells": [
  {
   "cell_type": "code",
   "execution_count": null,
   "id": "dc168cb8-535c-4179-9328-04c7dd03418e",
   "metadata": {},
   "outputs": [
    {
     "name": "stdin",
     "output_type": "stream",
     "text": [
      "Enter student's last name (or 'ZZZ' to quit):  Fernandez\n",
      "Enter the student's first name:  Tony\n",
      "Enter the student's GPA:  2.0\n"
     ]
    },
    {
     "name": "stdout",
     "output_type": "stream",
     "text": [
      "Tony Fernandez did not qualify for the Dean's list or Honor Roll.\n",
      "\n",
      "\n"
     ]
    },
    {
     "name": "stdin",
     "output_type": "stream",
     "text": [
      "Enter student's last name (or 'ZZZ' to quit):  Doe\n",
      "Enter the student's first name:  John\n",
      "Enter the student's GPA:  3.25\n"
     ]
    },
    {
     "name": "stdout",
     "output_type": "stream",
     "text": [
      "John Doe has made the Honor Roll.\n",
      "\n",
      "\n"
     ]
    },
    {
     "name": "stdin",
     "output_type": "stream",
     "text": [
      "Enter student's last name (or 'ZZZ' to quit):  Murillo \n",
      "Enter the student's first name:  Pablo\n",
      "Enter the student's GPA:  3.9\n"
     ]
    },
    {
     "name": "stdout",
     "output_type": "stream",
     "text": [
      "Pablo Murillo  has name the Dean's List.\n",
      "\n",
      "\n"
     ]
    },
    {
     "name": "stdin",
     "output_type": "stream",
     "text": [
      "Enter student's last name (or 'ZZZ' to quit):  Smith\n",
      "Enter the student's first name:  Tam\n",
      "Enter the student's GPA:  4.0\n"
     ]
    },
    {
     "name": "stdout",
     "output_type": "stream",
     "text": [
      "Tam Smith has name the Dean's List.\n",
      "\n",
      "\n"
     ]
    },
    {
     "name": "stdin",
     "output_type": "stream",
     "text": [
      "Enter student's last name (or 'ZZZ' to quit):  Bond\n",
      "Enter the student's first name:  Ismael\n",
      "Enter the student's GPA:  2.3\n"
     ]
    },
    {
     "name": "stdout",
     "output_type": "stream",
     "text": [
      "Ismael Bond did not qualify for the Dean's list or Honor Roll.\n",
      "\n",
      "\n"
     ]
    }
   ],
   "source": [
    "# Anthony Hernandez\n",
    "# File Name: students_gpa_test.ipynb\n",
    "# This app will figure out if student's made it to the Dean's list or Honor Roll by using GPAs and test scores. \n",
    "\n",
    "while True: \n",
    "    last_name = input(\"Enter student's last name (or 'ZZZ' to quit): \")\n",
    "\n",
    "    if last_name.upper() == 'ZZZ':\n",
    "        print(\"Exiting the program...\")\n",
    "        break\n",
    "\n",
    "    first_name = input(\"Enter the student's first name: \")\n",
    "\n",
    "    gpa = float(input(\"Enter the student's GPA: \"))\n",
    "\n",
    "    if gpa >= 3.5: \n",
    "        print(f\"{first_name} {last_name} has name the Dean's List.\")\n",
    "\n",
    "    elif gpa >= 3.25: \n",
    "        print(f\"{first_name} {last_name} has made the Honor Roll.\")\n",
    "                    \n",
    "    else:\n",
    "        print(f\"{first_name} {last_name} did not qualify for the Dean's list or Honor Roll.\")\n",
    "\n",
    "    print(\"\\n\")\n",
    "    \n",
    "    "
   ]
  },
  {
   "cell_type": "code",
   "execution_count": null,
   "id": "7242fe53-8c12-4bd8-bbef-55617fdbcc9b",
   "metadata": {},
   "outputs": [],
   "source": []
  }
 ],
 "metadata": {
  "kernelspec": {
   "display_name": "Python 3 (ipykernel)",
   "language": "python",
   "name": "python3"
  },
  "language_info": {
   "codemirror_mode": {
    "name": "ipython",
    "version": 3
   },
   "file_extension": ".py",
   "mimetype": "text/x-python",
   "name": "python",
   "nbconvert_exporter": "python",
   "pygments_lexer": "ipython3",
   "version": "3.12.4"
  }
 },
 "nbformat": 4,
 "nbformat_minor": 5
}
